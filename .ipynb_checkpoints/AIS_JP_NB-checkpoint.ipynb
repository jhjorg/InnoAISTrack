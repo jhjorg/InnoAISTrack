{
 "cells": [
  {
   "cell_type": "code",
   "execution_count": 141,
   "metadata": {},
   "outputs": [],
   "source": [
    "# main.py\n",
    "# 2021-06-09\n",
    "# Scrapes the AIS data for Innovation and writes it to a text file\n",
    "# References mapping.py, which takes scraped data and writes to a map\n",
    "# Scraping code from https://digital-geography.com/vessel-tracking-the-python-way/\n",
    "\n",
    "\n",
    "\n",
    "# region Import Modules\n",
    "\n",
    "import urllib.request\n",
    "from bs4 import BeautifulSoup\n",
    "import re\n",
    "import pandas as pd\n",
    "import numpy as np\n",
    "from datetime import datetime\n",
    "import locale\n",
    "locale.setlocale(locale.LC_ALL, 'en_US') # as we need to deal with names of months later on.\n",
    "import os\n",
    "from arcgis.gis import GIS\n",
    "from arcgis.geocoding import geocode\n",
    "from arcgis.geometry import lengths, areas_and_lengths, project\n",
    "from arcgis.geometry import Point, Polyline, Polygon, Geometry\n",
    "from arcgis.mapping import create_symbol\n",
    "import pandas as pd\n",
    "\n",
    "# endregion\n"
   ]
  },
  {
   "cell_type": "code",
   "execution_count": 143,
   "metadata": {
    "tags": [
     "parameters"
    ]
   },
   "outputs": [
    {
     "data": {
      "text/plain": [
       "['Innovation', 'Boa Sub C', 'Furore-G']"
      ]
     },
     "execution_count": 143,
     "metadata": {},
     "output_type": "execute_result"
    }
   ],
   "source": [
    "# region Tracked Vessels\n",
    "IMOS = [9603453, 9275153, 9483413] # Set up IMO numbers for vessel tracking\n",
    "IMOS_Names = ['Innovation', 'Boa Sub C', 'Furore-G'] # Identify tracked vessels\n",
    "\n",
    "IMOS\n",
    "IMOS_Names\n",
    "\n",
    "# endregion\n"
   ]
  },
  {
   "cell_type": "code",
   "execution_count": 144,
   "metadata": {},
   "outputs": [
    {
     "name": "stdout",
     "output_type": "stream",
     "text": [
      "Jun 10, 2021 09:34 UTC\n",
      "2021-06-10 09:34:00\n",
      "Jun 10, 2021 09:15 UTC\n",
      "2021-06-10 09:15:00\n",
      "strange table found\n",
      "Jun 10, 2021 09:32 UTC\n",
      "2021-06-10 09:32:00\n",
      "strange table found\n"
     ]
    }
   ],
   "source": [
    "# region AIS data scrape data from vesselfinder.com\n",
    "hdr = {\n",
    "    'User-Agent': 'Mozilla/5.0 (X11; Linux x86_64) AppleWebKit/537.11 (KHTML, like Gecko) Chrome/23.0.1271.64 Safari/537.11',\n",
    "    'Accept': 'text/html,application/xhtml+xml,application/xml;q=0.9,*/*;q=0.8',\n",
    "    'Accept-Charset': 'ISO-8859-1,utf-8;q=0.7,*;q=0.3',\n",
    "    'Accept-Encoding': 'none',\n",
    "    'Accept-Language': 'en-US,en;q=0.8',\n",
    "    'Connection': 'keep-alive'}\n",
    "items = []\n",
    "for IMO in IMOS:\n",
    "    url = r'https://www.vesselfinder.com/en/vessels/VOS-TRAVELLER-IMO-' + str(IMO)\n",
    "    req = urllib.request.Request(url, None, hdr)\n",
    "    with urllib.request.urlopen(req) as response:\n",
    "        the_page = response.read()\n",
    "    parsed_html = BeautifulSoup(the_page)\n",
    "    a = parsed_html.p\n",
    "    tables = parsed_html.findAll(\"table\")\n",
    "    for table in tables:\n",
    "        if table.findParent(\"table\") is None:\n",
    "            for row in table.findAll('tr'):\n",
    "                aux = row.findAll('td')\n",
    "\n",
    "                try:\n",
    "                    if aux[0].string == \"Vessel Name\":\n",
    "                        name = aux[1].string\n",
    "                    if aux[0].string == \"Position received\":\n",
    "                        print(aux[1].get(\"data-title\"))\n",
    "                        zeit = datetime.strptime(aux[1].get(\"data-title\"), '%b %d, %Y %H:%M %Z')\n",
    "                        print(zeit)\n",
    "                except:\n",
    "                    print(\"strange table found\")\n",
    "    a = parsed_html.p\n",
    "    [b,c, d] = a.text.partition('nates ')\n",
    "    [coords,f,g] = d.partition(')')\n",
    "    coordsSplit = coords.split(\" / \")\n",
    "\n",
    "\n",
    "    def dms2dd(degrees, direction):\n",
    "        dd = float(degrees);\n",
    "        if direction == 'S' or direction == 'W':\n",
    "            dd *= -1\n",
    "        return dd\n",
    "\n",
    "\n",
    "    def parse_dms(dms):\n",
    "        parts = re.split(' ', dms)\n",
    "        lat = dms2dd(parts[0], parts[1])\n",
    "        return lat\n",
    "\n",
    "    \n",
    "    lat = parse_dms(coordsSplit[0])\n",
    "    lng = parse_dms(coordsSplit[1])\n",
    "    items.append((lat, lng, name, zeit))\n",
    "# endregion"
   ]
  },
  {
   "cell_type": "code",
   "execution_count": 145,
   "metadata": {},
   "outputs": [
    {
     "data": {
      "text/plain": [
       "[(47.1699, -2.57615, 'INNOVATION', datetime.datetime(2021, 6, 10, 9, 34)),\n",
       " (47.3041, -2.1206, 'BOA SUB C', datetime.datetime(2021, 6, 10, 9, 15)),\n",
       " (47.17558, -2.56465, 'FURORE-G', datetime.datetime(2021, 6, 10, 9, 32))]"
      ]
     },
     "execution_count": 145,
     "metadata": {},
     "output_type": "execute_result"
    }
   ],
   "source": [
    "items\n"
   ]
  },
  {
   "cell_type": "code",
   "execution_count": 146,
   "metadata": {},
   "outputs": [],
   "source": [
    "# region Write positions to .txt file\n",
    "filename = 'ship_positions.txt'\n",
    "if os.path.exists(filename):\n",
    "    append_write = 'a' # append if already exists\n",
    "    fw = open(filename,append_write)\n",
    "else:\n",
    "    append_write = 'w' # make a new file if not\n",
    "    fw = open(filename,append_write)\n",
    "    fw.write(\"lat;lng;name;time\\n\")\n",
    "for item in items:\n",
    "    fw.write(\"%3.5f;%3.5f;%s;%s\\n\" % item)\n",
    "fw.close()\n",
    "# endregion"
   ]
  },
  {
   "cell_type": "code",
   "execution_count": 147,
   "metadata": {},
   "outputs": [
    {
     "data": {
      "text/html": [
       "<div>\n",
       "<style scoped>\n",
       "    .dataframe tbody tr th:only-of-type {\n",
       "        vertical-align: middle;\n",
       "    }\n",
       "\n",
       "    .dataframe tbody tr th {\n",
       "        vertical-align: top;\n",
       "    }\n",
       "\n",
       "    .dataframe thead th {\n",
       "        text-align: right;\n",
       "    }\n",
       "</style>\n",
       "<table border=\"1\" class=\"dataframe\">\n",
       "  <thead>\n",
       "    <tr style=\"text-align: right;\">\n",
       "      <th></th>\n",
       "      <th>0</th>\n",
       "      <th>1</th>\n",
       "    </tr>\n",
       "  </thead>\n",
       "  <tbody>\n",
       "    <tr>\n",
       "      <th>0</th>\n",
       "      <td>-2.660236</td>\n",
       "      <td>47.208994</td>\n",
       "    </tr>\n",
       "    <tr>\n",
       "      <th>1</th>\n",
       "      <td>-2.635174</td>\n",
       "      <td>47.177499</td>\n",
       "    </tr>\n",
       "    <tr>\n",
       "      <th>2</th>\n",
       "      <td>-2.579899</td>\n",
       "      <td>47.162794</td>\n",
       "    </tr>\n",
       "    <tr>\n",
       "      <th>3</th>\n",
       "      <td>-2.569599</td>\n",
       "      <td>47.182632</td>\n",
       "    </tr>\n",
       "    <tr>\n",
       "      <th>4</th>\n",
       "      <td>-2.518788</td>\n",
       "      <td>47.171431</td>\n",
       "    </tr>\n",
       "    <tr>\n",
       "      <th>5</th>\n",
       "      <td>-2.497501</td>\n",
       "      <td>47.147619</td>\n",
       "    </tr>\n",
       "    <tr>\n",
       "      <th>6</th>\n",
       "      <td>-2.565479</td>\n",
       "      <td>47.113050</td>\n",
       "    </tr>\n",
       "    <tr>\n",
       "      <th>7</th>\n",
       "      <td>-2.579899</td>\n",
       "      <td>47.124264</td>\n",
       "    </tr>\n",
       "    <tr>\n",
       "      <th>8</th>\n",
       "      <td>-2.699032</td>\n",
       "      <td>47.146919</td>\n",
       "    </tr>\n",
       "    <tr>\n",
       "      <th>9</th>\n",
       "      <td>-2.686667</td>\n",
       "      <td>47.182632</td>\n",
       "    </tr>\n",
       "    <tr>\n",
       "      <th>10</th>\n",
       "      <td>-2.691135</td>\n",
       "      <td>47.202230</td>\n",
       "    </tr>\n",
       "  </tbody>\n",
       "</table>\n",
       "</div>"
      ],
      "text/plain": [
       "           0          1\n",
       "0  -2.660236  47.208994\n",
       "1  -2.635174  47.177499\n",
       "2  -2.579899  47.162794\n",
       "3  -2.569599  47.182632\n",
       "4  -2.518788  47.171431\n",
       "5  -2.497501  47.147619\n",
       "6  -2.565479  47.113050\n",
       "7  -2.579899  47.124264\n",
       "8  -2.699032  47.146919\n",
       "9  -2.686667  47.182632\n",
       "10 -2.691135  47.202230"
      ]
     },
     "execution_count": 147,
     "metadata": {},
     "output_type": "execute_result"
    }
   ],
   "source": [
    "# region Set-up area\n",
    "Area = [(-2.691135278,-2.686666667,-2.699031944,-2.579898889,-2.565479167,-2.497501389,-2.5187875,-2.569599167,-2.579898889,-2.635173889,-2.660236389),(47.20222972,47.1826325,47.14691889,47.12426444,47.11305028,47.14761917,47.17143083,47.1826325,47.16279444,47.17749861, 47.20899361)]\n",
    "np.transpose(Area)\n",
    "df1 = pd.DataFrame.from_records(np.transpose(Area))\n",
    "df1\n",
    "df1 = df1.iloc[::-1].reset_index(drop=True)\n",
    "df1\n",
    "# endregion"
   ]
  },
  {
   "cell_type": "code",
   "execution_count": 150,
   "metadata": {},
   "outputs": [
    {
     "data": {
      "application/vnd.jupyter.widget-view+json": {
       "model_id": "0a4f950165c34742959d850d5139092e",
       "version_major": 2,
       "version_minor": 0
      },
      "text/plain": [
       "MapView(layout=Layout(height='400px', width='100%'))"
      ]
     },
     "metadata": {},
     "output_type": "display_data"
    },
    {
     "data": {
      "text/html": [
       "<div class=\"map-static-img-preview-936ad32b-236d-4c55-92a6-f780452e315f\"><img src=\"\"></img></div>"
      ],
      "text/plain": [
       "<IPython.core.display.HTML object>"
      ]
     },
     "metadata": {},
     "output_type": "display_data"
    },
    {
     "data": {
      "text/html": [
       "<div class=\"map-html-embed-preview-936ad32b-236d-4c55-92a6-f780452e315f\"></div>"
      ],
      "text/plain": [
       "<IPython.core.display.HTML object>"
      ]
     },
     "metadata": {},
     "output_type": "display_data"
    }
   ],
   "source": [
    "# region Plot onto a map\n",
    "from arcgis.gis import GIS\n",
    "gis = GIS()\n",
    "map = gis.map()\n",
    "df = pd.DataFrame.from_records(items)\n",
    "df.columns = ['y', 'x', 'name', 'zeit']\n",
    "ships = gis.content.import_data(df)\n",
    "\n",
    "geom = Geometry({'spatialReference': {'latestWkid': 4326,\n",
    "                'wkid':4326}, \n",
    "                'rings': [df1[:].values.tolist()]\n",
    "                   })\n",
    "\n",
    "\n",
    "map.add_layer(ships)\n",
    "\n",
    "map.center = [lat, lng]\n",
    "map.center = {'x': -2.6, 'y': 47, \n",
    "               \"spatialReference\" : {\"wkid\" : 4326}}\n",
    "map.zoom = 10\n",
    "map.basemap = 'satellite'\n",
    "symbol = create_symbol(geometry_type='polygon', cmap='prism')\n",
    "map.draw(geom, symbol=symbol)\n",
    "map\n",
    "\n",
    "# endregion"
   ]
  }
 ],
 "metadata": {
  "kernelspec": {
   "display_name": "Python 3",
   "language": "python",
   "name": "python3"
  },
  "language_info": {
   "codemirror_mode": {
    "name": "ipython",
    "version": 3
   },
   "file_extension": ".py",
   "mimetype": "text/x-python",
   "name": "python",
   "nbconvert_exporter": "python",
   "pygments_lexer": "ipython3",
   "version": "3.8.5"
  }
 },
 "nbformat": 4,
 "nbformat_minor": 4
}
