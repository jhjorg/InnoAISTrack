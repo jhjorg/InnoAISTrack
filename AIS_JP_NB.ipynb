{
 "cells": [
  {
   "cell_type": "code",
   "execution_count": 1,
   "metadata": {},
   "outputs": [
    {
     "ename": "ModuleNotFoundError",
     "evalue": "No module named 'bs4'",
     "output_type": "error",
     "traceback": [
      "\u001b[0;31m---------------------------------------------------------------------------\u001b[0m",
      "\u001b[0;31mModuleNotFoundError\u001b[0m                       Traceback (most recent call last)",
      "\u001b[0;32m<ipython-input-1-2d97d15f0b52>\u001b[0m in \u001b[0;36m<module>\u001b[0;34m\u001b[0m\n\u001b[1;32m     10\u001b[0m \u001b[0;34m\u001b[0m\u001b[0m\n\u001b[1;32m     11\u001b[0m \u001b[0;32mimport\u001b[0m \u001b[0murllib\u001b[0m\u001b[0;34m.\u001b[0m\u001b[0mrequest\u001b[0m\u001b[0;34m\u001b[0m\u001b[0;34m\u001b[0m\u001b[0m\n\u001b[0;32m---> 12\u001b[0;31m \u001b[0;32mfrom\u001b[0m \u001b[0mbs4\u001b[0m \u001b[0;32mimport\u001b[0m \u001b[0mBeautifulSoup\u001b[0m\u001b[0;34m\u001b[0m\u001b[0;34m\u001b[0m\u001b[0m\n\u001b[0m\u001b[1;32m     13\u001b[0m \u001b[0;32mimport\u001b[0m \u001b[0mre\u001b[0m\u001b[0;34m\u001b[0m\u001b[0;34m\u001b[0m\u001b[0m\n\u001b[1;32m     14\u001b[0m \u001b[0;32mimport\u001b[0m \u001b[0mfolium\u001b[0m\u001b[0;34m\u001b[0m\u001b[0;34m\u001b[0m\u001b[0m\n",
      "\u001b[0;31mModuleNotFoundError\u001b[0m: No module named 'bs4'"
     ]
    }
   ],
   "source": [
    "# main.py\n",
    "# 2021-06-09\n",
    "# Scrapes the AIS data for Innovation and writes it to a text file\n",
    "# References mapping.py, which takes scraped data and writes to a map\n",
    "# Scraping code from https://digital-geography.com/vessel-tracking-the-python-way/\n",
    "\n",
    "\n",
    "\n",
    "# region Import Modules\n",
    "\n",
    "import urllib.request\n",
    "from bs4 import BeautifulSoup\n",
    "import re\n",
    "import folium\n",
    "import pandas as pd\n",
    "import numpy as np\n",
    "from datetime import datetime\n",
    "import locale\n",
    "#locale.setlocale(locale.LC_ALL, 'en_US') # as we need to deal with names of months later on.\n",
    "import os\n",
    "from arcgis.gis import GIS\n",
    "from arcgis.geocoding import geocode\n",
    "from arcgis.geometry import lengths, areas_and_lengths, project\n",
    "from arcgis.geometry import Point, Polyline, Polygon, Geometry\n",
    "from arcgis.mapping import create_symbol\n",
    "import pandas as pd\n",
    "\n",
    "# endregion\n"
   ]
  },
  {
   "cell_type": "code",
   "execution_count": 2,
   "metadata": {
    "tags": [
     "parameters"
    ]
   },
   "outputs": [
    {
     "data": {
      "text/plain": [
       "['Innovation', 'Boa Sub C', 'Furore-G']"
      ]
     },
     "execution_count": 2,
     "metadata": {},
     "output_type": "execute_result"
    }
   ],
   "source": [
    "# region Tracked Vessels\n",
    "IMOS = [9603453, 9383754, 9275153, 9483413, 9282144] # Set up IMO numbers for vessel tracking\n",
    "IMOS_Names = ['Innovation', 'Olympic Triton - LDTVO', 'Boa Sub C', 'Furore-G', 'Wind of Pride'] # Identify tracked vessels\n",
    "\n",
    "#IMOS\n",
    "#IMOS_Names\n",
    "\n",
    "# endregion\n"
   ]
  },
  {
   "cell_type": "code",
   "execution_count": 3,
   "metadata": {},
   "outputs": [
    {
     "name": "stdout",
     "output_type": "stream",
     "text": [
      "Jun 11, 2021 00:20 UTC\n",
      "2021-06-11 00:20:00\n",
      "Jun 11, 2021 00:20 UTC\n",
      "2021-06-11 00:20:00\n",
      "strange table found\n",
      "Jun 11, 2021 00:10 UTC\n",
      "2021-06-11 00:10:00\n",
      "strange table found\n"
     ]
    }
   ],
   "source": [
    "# region AIS data scrape data from vesselfinder.com\n",
    "hdr = {\n",
    "    'User-Agent': 'Mozilla/5.0 (X11; Linux x86_64) AppleWebKit/537.11 (KHTML, like Gecko) Chrome/23.0.1271.64 Safari/537.11',\n",
    "    'Accept': 'text/html,application/xhtml+xml,application/xml;q=0.9,*/*;q=0.8',\n",
    "    'Accept-Charset': 'ISO-8859-1,utf-8;q=0.7,*;q=0.3',\n",
    "    'Accept-Encoding': 'none',\n",
    "    'Accept-Language': 'en-US,en;q=0.8',\n",
    "    'Connection': 'keep-alive'}\n",
    "items = []\n",
    "for IMO in IMOS:\n",
    "    url = r'https://www.vesselfinder.com/en/vessels/VOS-TRAVELLER-IMO-' + str(IMO)\n",
    "    req = urllib.request.Request(url, None, hdr)\n",
    "    with urllib.request.urlopen(req) as response:\n",
    "        the_page = response.read()\n",
    "    parsed_html = BeautifulSoup(the_page)\n",
    "    a = parsed_html.p\n",
    "    tables = parsed_html.findAll(\"table\")\n",
    "    for table in tables:\n",
    "        if table.findParent(\"table\") is None:\n",
    "            for row in table.findAll('tr'):\n",
    "                aux = row.findAll('td')\n",
    "\n",
    "                try:\n",
    "                    if aux[0].string == \"Vessel Name\":\n",
    "                        name = aux[1].string\n",
    "                    if aux[0].string == \"Position received\":\n",
    "                        #print(aux[1].get(\"data-title\"))\n",
    "                        #zeit = datetime.strptime(aux[1].get(\"data-title\"), '%b %d, %Y %H:%M %Z')\n",
    "                        #print(zeit)\n",
    "                except:\n",
    "                    print(\"strange table found\")\n",
    "    a = parsed_html.p\n",
    "    [b,c, d] = a.text.partition('nates ')\n",
    "    [coords,f,g] = d.partition(')')\n",
    "    coordsSplit = coords.split(\" / \")\n",
    "\n",
    "\n",
    "    def dms2dd(degrees, direction):\n",
    "        dd = float(degrees);\n",
    "        if direction == 'S' or direction == 'W':\n",
    "            dd *= -1\n",
    "        return dd\n",
    "\n",
    "\n",
    "    def parse_dms(dms):\n",
    "        parts = re.split(' ', dms)\n",
    "        lat = dms2dd(parts[0], parts[1])\n",
    "        return lat\n",
    "\n",
    "    \n",
    "    lat = parse_dms(coordsSplit[0])\n",
    "    lng = parse_dms(coordsSplit[1])\n",
    "    items.append((lat, lng, name, zeit))\n",
    "# endregion"
   ]
  },
  {
   "cell_type": "code",
   "execution_count": 4,
   "metadata": {},
   "outputs": [
    {
     "data": {
      "text/plain": [
       "[(47.17, -2.57592, 'INNOVATION', datetime.datetime(2021, 6, 11, 0, 20)),\n",
       " (47.17342, -2.56905, 'BOA SUB C', datetime.datetime(2021, 6, 11, 0, 20)),\n",
       " (47.18493, -2.53788, 'FURORE-G', datetime.datetime(2021, 6, 11, 0, 10))]"
      ]
     },
     "execution_count": 4,
     "metadata": {},
     "output_type": "execute_result"
    }
   ],
   "source": [
    "#items\n"
   ]
  },
  {
   "cell_type": "code",
   "execution_count": 5,
   "metadata": {},
   "outputs": [],
   "source": [
    "# region Write positions to .txt file\n",
    "filename = 'ship_positions.txt'\n",
    "if os.path.exists(filename):\n",
    "    append_write = 'a' # append if already exists\n",
    "    fw = open(filename,append_write)\n",
    "else:\n",
    "    append_write = 'w' # make a new file if not\n",
    "    fw = open(filename,append_write)\n",
    "    fw.write(\"lat;lng;name;time\\n\")\n",
    "for item in items:\n",
    "    fw.write(\"%3.5f;%3.5f;%s;%s\\n\" % item)\n",
    "fw.close()\n",
    "# endregion"
   ]
  },
  {
   "cell_type": "code",
   "execution_count": 64,
   "metadata": {},
   "outputs": [
    {
     "data": {
      "text/html": [
       "<div>\n",
       "<style scoped>\n",
       "    .dataframe tbody tr th:only-of-type {\n",
       "        vertical-align: middle;\n",
       "    }\n",
       "\n",
       "    .dataframe tbody tr th {\n",
       "        vertical-align: top;\n",
       "    }\n",
       "\n",
       "    .dataframe thead th {\n",
       "        text-align: right;\n",
       "    }\n",
       "</style>\n",
       "<table border=\"1\" class=\"dataframe\">\n",
       "  <thead>\n",
       "    <tr style=\"text-align: right;\">\n",
       "      <th></th>\n",
       "      <th>0</th>\n",
       "      <th>1</th>\n",
       "    </tr>\n",
       "  </thead>\n",
       "  <tbody>\n",
       "    <tr>\n",
       "      <th>0</th>\n",
       "      <td>47.202230</td>\n",
       "      <td>-2.691135</td>\n",
       "    </tr>\n",
       "    <tr>\n",
       "      <th>1</th>\n",
       "      <td>47.182632</td>\n",
       "      <td>-2.686667</td>\n",
       "    </tr>\n",
       "    <tr>\n",
       "      <th>2</th>\n",
       "      <td>47.146919</td>\n",
       "      <td>-2.699032</td>\n",
       "    </tr>\n",
       "    <tr>\n",
       "      <th>3</th>\n",
       "      <td>47.124264</td>\n",
       "      <td>-2.579899</td>\n",
       "    </tr>\n",
       "    <tr>\n",
       "      <th>4</th>\n",
       "      <td>47.113050</td>\n",
       "      <td>-2.565479</td>\n",
       "    </tr>\n",
       "    <tr>\n",
       "      <th>5</th>\n",
       "      <td>47.147619</td>\n",
       "      <td>-2.497501</td>\n",
       "    </tr>\n",
       "    <tr>\n",
       "      <th>6</th>\n",
       "      <td>47.171431</td>\n",
       "      <td>-2.518788</td>\n",
       "    </tr>\n",
       "    <tr>\n",
       "      <th>7</th>\n",
       "      <td>47.182632</td>\n",
       "      <td>-2.569599</td>\n",
       "    </tr>\n",
       "    <tr>\n",
       "      <th>8</th>\n",
       "      <td>47.162794</td>\n",
       "      <td>-2.579899</td>\n",
       "    </tr>\n",
       "    <tr>\n",
       "      <th>9</th>\n",
       "      <td>47.177499</td>\n",
       "      <td>-2.635174</td>\n",
       "    </tr>\n",
       "    <tr>\n",
       "      <th>10</th>\n",
       "      <td>47.208994</td>\n",
       "      <td>-2.660236</td>\n",
       "    </tr>\n",
       "  </tbody>\n",
       "</table>\n",
       "</div>"
      ],
      "text/plain": [
       "            0         1\n",
       "0   47.202230 -2.691135\n",
       "1   47.182632 -2.686667\n",
       "2   47.146919 -2.699032\n",
       "3   47.124264 -2.579899\n",
       "4   47.113050 -2.565479\n",
       "5   47.147619 -2.497501\n",
       "6   47.171431 -2.518788\n",
       "7   47.182632 -2.569599\n",
       "8   47.162794 -2.579899\n",
       "9   47.177499 -2.635174\n",
       "10  47.208994 -2.660236"
      ]
     },
     "execution_count": 64,
     "metadata": {},
     "output_type": "execute_result"
    }
   ],
   "source": [
    "# region Set-up area Folium\n",
    "Area1 = [(47.20222972,47.1826325,47.14691889,47.12426444,47.11305028,47.14761917,47.17143083,47.1826325,47.16279444,47.17749861, 47.20899361), (-2.691135278,-2.686666667,-2.699031944,-2.579898889,-2.565479167,-2.497501389,-2.5187875,-2.569599167,-2.579898889,-2.635173889,-2.660236389)]\n",
    "df2 = pd.DataFrame.from_records(np.transpose(Area1))\n",
    "#df2\n",
    "\n",
    "# endregion"
   ]
  },
  {
   "cell_type": "code",
   "execution_count": 61,
   "metadata": {},
   "outputs": [
    {
     "data": {
      "text/html": [
       "<div>\n",
       "<style scoped>\n",
       "    .dataframe tbody tr th:only-of-type {\n",
       "        vertical-align: middle;\n",
       "    }\n",
       "\n",
       "    .dataframe tbody tr th {\n",
       "        vertical-align: top;\n",
       "    }\n",
       "\n",
       "    .dataframe thead th {\n",
       "        text-align: right;\n",
       "    }\n",
       "</style>\n",
       "<table border=\"1\" class=\"dataframe\">\n",
       "  <thead>\n",
       "    <tr style=\"text-align: right;\">\n",
       "      <th></th>\n",
       "      <th>0</th>\n",
       "      <th>1</th>\n",
       "    </tr>\n",
       "  </thead>\n",
       "  <tbody>\n",
       "    <tr>\n",
       "      <th>0</th>\n",
       "      <td>-2.660236</td>\n",
       "      <td>47.208994</td>\n",
       "    </tr>\n",
       "    <tr>\n",
       "      <th>1</th>\n",
       "      <td>-2.635174</td>\n",
       "      <td>47.177499</td>\n",
       "    </tr>\n",
       "    <tr>\n",
       "      <th>2</th>\n",
       "      <td>-2.579899</td>\n",
       "      <td>47.162794</td>\n",
       "    </tr>\n",
       "    <tr>\n",
       "      <th>3</th>\n",
       "      <td>-2.569599</td>\n",
       "      <td>47.182632</td>\n",
       "    </tr>\n",
       "    <tr>\n",
       "      <th>4</th>\n",
       "      <td>-2.518788</td>\n",
       "      <td>47.171431</td>\n",
       "    </tr>\n",
       "    <tr>\n",
       "      <th>5</th>\n",
       "      <td>-2.497501</td>\n",
       "      <td>47.147619</td>\n",
       "    </tr>\n",
       "    <tr>\n",
       "      <th>6</th>\n",
       "      <td>-2.565479</td>\n",
       "      <td>47.113050</td>\n",
       "    </tr>\n",
       "    <tr>\n",
       "      <th>7</th>\n",
       "      <td>-2.579899</td>\n",
       "      <td>47.124264</td>\n",
       "    </tr>\n",
       "    <tr>\n",
       "      <th>8</th>\n",
       "      <td>-2.699032</td>\n",
       "      <td>47.146919</td>\n",
       "    </tr>\n",
       "    <tr>\n",
       "      <th>9</th>\n",
       "      <td>-2.686667</td>\n",
       "      <td>47.182632</td>\n",
       "    </tr>\n",
       "    <tr>\n",
       "      <th>10</th>\n",
       "      <td>-2.691135</td>\n",
       "      <td>47.202230</td>\n",
       "    </tr>\n",
       "  </tbody>\n",
       "</table>\n",
       "</div>"
      ],
      "text/plain": [
       "           0          1\n",
       "0  -2.660236  47.208994\n",
       "1  -2.635174  47.177499\n",
       "2  -2.579899  47.162794\n",
       "3  -2.569599  47.182632\n",
       "4  -2.518788  47.171431\n",
       "5  -2.497501  47.147619\n",
       "6  -2.565479  47.113050\n",
       "7  -2.579899  47.124264\n",
       "8  -2.699032  47.146919\n",
       "9  -2.686667  47.182632\n",
       "10 -2.691135  47.202230"
      ]
     },
     "execution_count": 61,
     "metadata": {},
     "output_type": "execute_result"
    }
   ],
   "source": [
    "\n",
    "# region Set-up area Arcgis\n",
    "Area = [(-2.691135278,-2.686666667,-2.699031944,-2.579898889,-2.565479167,-2.497501389,-2.5187875,-2.569599167,-2.579898889,-2.635173889,-2.660236389),(47.20222972,47.1826325,47.14691889,47.12426444,47.11305028,47.14761917,47.17143083,47.1826325,47.16279444,47.17749861, 47.20899361)]\n",
    "np.transpose(Area)\n",
    "df1 = pd.DataFrame.from_records(np.transpose(Area))\n",
    "#df1\n",
    "df1 = df1.iloc[::-1].reset_index(drop=True)\n",
    "#df1\n",
    "# endregion"
   ]
  },
  {
   "cell_type": "code",
   "execution_count": 62,
   "metadata": {
    "scrolled": true
   },
   "outputs": [
    {
     "data": {
      "application/vnd.jupyter.widget-view+json": {
       "model_id": "5ae1de684fad4690802b72c5f7196653",
       "version_major": 2,
       "version_minor": 0
      },
      "text/plain": [
       "MapView(layout=Layout(height='400px', width='100%'))"
      ]
     },
     "metadata": {},
     "output_type": "display_data"
    },
    {
     "data": {
      "text/html": [
       "<div class=\"map-static-img-preview-d031e18f-029a-4243-a10d-fcfa68cd7e11\"><img src=\"\"></img></div>"
      ],
      "text/plain": [
       "<IPython.core.display.HTML object>"
      ]
     },
     "metadata": {},
     "output_type": "display_data"
    },
    {
     "data": {
      "text/html": [
       "<div class=\"map-html-embed-preview-d031e18f-029a-4243-a10d-fcfa68cd7e11\"></div>"
      ],
      "text/plain": [
       "<IPython.core.display.HTML object>"
      ]
     },
     "metadata": {},
     "output_type": "display_data"
    }
   ],
   "source": [
    "# region Plot onto a map\n",
    "from arcgis.gis import GIS\n",
    "gis = GIS()\n",
    "map = gis.map()\n",
    "df = pd.DataFrame.from_records(items)\n",
    "df.columns = ['y', 'x', 'name', 'zeit']\n",
    "ships = gis.content.import_data(df)\n",
    "\n",
    "geom = Geometry({'spatialReference': {'latestWkid': 4326,\n",
    "                'wkid':4326}, \n",
    "                'rings': [df1[:].values.tolist()]\n",
    "                   })\n",
    "\n",
    "\n",
    "map.add_layer(ships)\n",
    "\n",
    "map.center = [lat, lng]\n",
    "map.center = {'x': -2.6, 'y': 47, \n",
    "               \"spatialReference\" : {\"wkid\" : 4326}}\n",
    "map.zoom = 10\n",
    "map.basemap = 'satellite'\n",
    "symbol = create_symbol(geometry_type='polygon', cmap='prism')\n",
    "#map.draw(geom, symbol=symbol)\n",
    "#map\n",
    "\n",
    "# endregion"
   ]
  },
  {
   "cell_type": "code",
   "execution_count": 66,
   "metadata": {},
   "outputs": [
    {
     "data": {
      "text/html": [
       "<div style=\"width:100%;\"><div style=\"position:relative;width:100%;height:0;padding-bottom:60%;\"><span style=\"color:#565656\">Make this Notebook Trusted to load map: File -> Trust Notebook</span><iframe src=\"about:blank\" style=\"position:absolute;width:100%;height:100%;left:0;top:0;border:none !important;\" data-html=%3C%21DOCTYPE%20html%3E%0A%3Chead%3E%20%20%20%20%0A%20%20%20%20%3Cmeta%20http-equiv%3D%22content-type%22%20content%3D%22text/html%3B%20charset%3DUTF-8%22%20/%3E%0A%20%20%20%20%0A%20%20%20%20%20%20%20%20%3Cscript%3E%0A%20%20%20%20%20%20%20%20%20%20%20%20L_NO_TOUCH%20%3D%20false%3B%0A%20%20%20%20%20%20%20%20%20%20%20%20L_DISABLE_3D%20%3D%20false%3B%0A%20%20%20%20%20%20%20%20%3C/script%3E%0A%20%20%20%20%0A%20%20%20%20%3Cstyle%3Ehtml%2C%20body%20%7Bwidth%3A%20100%25%3Bheight%3A%20100%25%3Bmargin%3A%200%3Bpadding%3A%200%3B%7D%3C/style%3E%0A%20%20%20%20%3Cstyle%3E%23map%20%7Bposition%3Aabsolute%3Btop%3A0%3Bbottom%3A0%3Bright%3A0%3Bleft%3A0%3B%7D%3C/style%3E%0A%20%20%20%20%3Cscript%20src%3D%22https%3A//cdn.jsdelivr.net/npm/leaflet%401.6.0/dist/leaflet.js%22%3E%3C/script%3E%0A%20%20%20%20%3Cscript%20src%3D%22https%3A//code.jquery.com/jquery-1.12.4.min.js%22%3E%3C/script%3E%0A%20%20%20%20%3Cscript%20src%3D%22https%3A//maxcdn.bootstrapcdn.com/bootstrap/3.2.0/js/bootstrap.min.js%22%3E%3C/script%3E%0A%20%20%20%20%3Cscript%20src%3D%22https%3A//cdnjs.cloudflare.com/ajax/libs/Leaflet.awesome-markers/2.0.2/leaflet.awesome-markers.js%22%3E%3C/script%3E%0A%20%20%20%20%3Clink%20rel%3D%22stylesheet%22%20href%3D%22https%3A//cdn.jsdelivr.net/npm/leaflet%401.6.0/dist/leaflet.css%22/%3E%0A%20%20%20%20%3Clink%20rel%3D%22stylesheet%22%20href%3D%22https%3A//maxcdn.bootstrapcdn.com/bootstrap/3.2.0/css/bootstrap.min.css%22/%3E%0A%20%20%20%20%3Clink%20rel%3D%22stylesheet%22%20href%3D%22https%3A//maxcdn.bootstrapcdn.com/bootstrap/3.2.0/css/bootstrap-theme.min.css%22/%3E%0A%20%20%20%20%3Clink%20rel%3D%22stylesheet%22%20href%3D%22https%3A//maxcdn.bootstrapcdn.com/font-awesome/4.6.3/css/font-awesome.min.css%22/%3E%0A%20%20%20%20%3Clink%20rel%3D%22stylesheet%22%20href%3D%22https%3A//cdnjs.cloudflare.com/ajax/libs/Leaflet.awesome-markers/2.0.2/leaflet.awesome-markers.css%22/%3E%0A%20%20%20%20%3Clink%20rel%3D%22stylesheet%22%20href%3D%22https%3A//cdn.jsdelivr.net/gh/python-visualization/folium/folium/templates/leaflet.awesome.rotate.min.css%22/%3E%0A%20%20%20%20%0A%20%20%20%20%20%20%20%20%20%20%20%20%3Cmeta%20name%3D%22viewport%22%20content%3D%22width%3Ddevice-width%2C%0A%20%20%20%20%20%20%20%20%20%20%20%20%20%20%20%20initial-scale%3D1.0%2C%20maximum-scale%3D1.0%2C%20user-scalable%3Dno%22%20/%3E%0A%20%20%20%20%20%20%20%20%20%20%20%20%3Cstyle%3E%0A%20%20%20%20%20%20%20%20%20%20%20%20%20%20%20%20%23map_c9faa525762b46ab887ac03d1fe6687f%20%7B%0A%20%20%20%20%20%20%20%20%20%20%20%20%20%20%20%20%20%20%20%20position%3A%20relative%3B%0A%20%20%20%20%20%20%20%20%20%20%20%20%20%20%20%20%20%20%20%20width%3A%20100.0%25%3B%0A%20%20%20%20%20%20%20%20%20%20%20%20%20%20%20%20%20%20%20%20height%3A%20100.0%25%3B%0A%20%20%20%20%20%20%20%20%20%20%20%20%20%20%20%20%20%20%20%20left%3A%200.0%25%3B%0A%20%20%20%20%20%20%20%20%20%20%20%20%20%20%20%20%20%20%20%20top%3A%200.0%25%3B%0A%20%20%20%20%20%20%20%20%20%20%20%20%20%20%20%20%7D%0A%20%20%20%20%20%20%20%20%20%20%20%20%3C/style%3E%0A%20%20%20%20%20%20%20%20%0A%3C/head%3E%0A%3Cbody%3E%20%20%20%20%0A%20%20%20%20%0A%20%20%20%20%20%20%20%20%20%20%20%20%3Cdiv%20class%3D%22folium-map%22%20id%3D%22map_c9faa525762b46ab887ac03d1fe6687f%22%20%3E%3C/div%3E%0A%20%20%20%20%20%20%20%20%0A%3C/body%3E%0A%3Cscript%3E%20%20%20%20%0A%20%20%20%20%0A%20%20%20%20%20%20%20%20%20%20%20%20var%20map_c9faa525762b46ab887ac03d1fe6687f%20%3D%20L.map%28%0A%20%20%20%20%20%20%20%20%20%20%20%20%20%20%20%20%22map_c9faa525762b46ab887ac03d1fe6687f%22%2C%0A%20%20%20%20%20%20%20%20%20%20%20%20%20%20%20%20%7B%0A%20%20%20%20%20%20%20%20%20%20%20%20%20%20%20%20%20%20%20%20center%3A%20%5B47.2%2C%20-2.6%5D%2C%0A%20%20%20%20%20%20%20%20%20%20%20%20%20%20%20%20%20%20%20%20crs%3A%20L.CRS.EPSG3857%2C%0A%20%20%20%20%20%20%20%20%20%20%20%20%20%20%20%20%20%20%20%20zoom%3A%209.5%2C%0A%20%20%20%20%20%20%20%20%20%20%20%20%20%20%20%20%20%20%20%20zoomControl%3A%20true%2C%0A%20%20%20%20%20%20%20%20%20%20%20%20%20%20%20%20%20%20%20%20preferCanvas%3A%20false%2C%0A%20%20%20%20%20%20%20%20%20%20%20%20%20%20%20%20%7D%0A%20%20%20%20%20%20%20%20%20%20%20%20%29%3B%0A%0A%20%20%20%20%20%20%20%20%20%20%20%20%0A%0A%20%20%20%20%20%20%20%20%0A%20%20%20%20%0A%20%20%20%20%20%20%20%20%20%20%20%20var%20tile_layer_b478c44cc9294052b5784cbbaeadf6da%20%3D%20L.tileLayer%28%0A%20%20%20%20%20%20%20%20%20%20%20%20%20%20%20%20%22https%3A//cartodb-basemaps-%7Bs%7D.global.ssl.fastly.net/light_all/%7Bz%7D/%7Bx%7D/%7By%7D.png%22%2C%0A%20%20%20%20%20%20%20%20%20%20%20%20%20%20%20%20%7B%22attribution%22%3A%20%22%5Cu0026copy%3B%20%5Cu003ca%20href%3D%5C%22http%3A//www.openstreetmap.org/copyright%5C%22%5Cu003eOpenStreetMap%5Cu003c/a%5Cu003e%20contributors%20%5Cu0026copy%3B%20%5Cu003ca%20href%3D%5C%22http%3A//cartodb.com/attributions%5C%22%5Cu003eCartoDB%5Cu003c/a%5Cu003e%2C%20CartoDB%20%5Cu003ca%20href%20%3D%5C%22http%3A//cartodb.com/attributions%5C%22%5Cu003eattributions%5Cu003c/a%5Cu003e%22%2C%20%22detectRetina%22%3A%20false%2C%20%22maxNativeZoom%22%3A%2018%2C%20%22maxZoom%22%3A%2018%2C%20%22minZoom%22%3A%200%2C%20%22noWrap%22%3A%20false%2C%20%22opacity%22%3A%201%2C%20%22subdomains%22%3A%20%22abc%22%2C%20%22tms%22%3A%20false%7D%0A%20%20%20%20%20%20%20%20%20%20%20%20%29.addTo%28map_c9faa525762b46ab887ac03d1fe6687f%29%3B%0A%20%20%20%20%20%20%20%20%0A%20%20%20%20%0A%20%20%20%20%20%20%20%20%20%20%20%20var%20marker_48da8547ae9d4356975467720e0c82a9%20%3D%20L.marker%28%0A%20%20%20%20%20%20%20%20%20%20%20%20%20%20%20%20%5B47.17%2C%20-2.56905%5D%2C%0A%20%20%20%20%20%20%20%20%20%20%20%20%20%20%20%20%7B%7D%0A%20%20%20%20%20%20%20%20%20%20%20%20%29.addTo%28map_c9faa525762b46ab887ac03d1fe6687f%29%3B%0A%20%20%20%20%20%20%20%20%0A%20%20%20%20%0A%20%20%20%20%20%20%20%20var%20popup_43f65f9047584975bfe2e9b61efcc484%20%3D%20L.popup%28%7B%22maxWidth%22%3A%20%22100%25%22%7D%29%3B%0A%0A%20%20%20%20%20%20%20%20%0A%20%20%20%20%20%20%20%20%20%20%20%20var%20html_691f8d7e13dc4fa88c4bf45824c98b21%20%3D%20%24%28%60%3Cdiv%20id%3D%22html_691f8d7e13dc4fa88c4bf45824c98b21%22%20style%3D%22width%3A%20100.0%25%3B%20height%3A%20100.0%25%3B%22%3E%3Ci%3EInnovation%3C/i%3E%3C/div%3E%60%29%5B0%5D%3B%0A%20%20%20%20%20%20%20%20%20%20%20%20popup_43f65f9047584975bfe2e9b61efcc484.setContent%28html_691f8d7e13dc4fa88c4bf45824c98b21%29%3B%0A%20%20%20%20%20%20%20%20%0A%0A%20%20%20%20%20%20%20%20marker_48da8547ae9d4356975467720e0c82a9.bindPopup%28popup_43f65f9047584975bfe2e9b61efcc484%29%0A%20%20%20%20%20%20%20%20%3B%0A%0A%20%20%20%20%20%20%20%20%0A%20%20%20%20%0A%20%20%20%20%0A%20%20%20%20%20%20%20%20%20%20%20%20marker_48da8547ae9d4356975467720e0c82a9.bindTooltip%28%0A%20%20%20%20%20%20%20%20%20%20%20%20%20%20%20%20%60%3Cdiv%3E%0A%20%20%20%20%20%20%20%20%20%20%20%20%20%20%20%20%20%20%20%20%20Innovation%0A%20%20%20%20%20%20%20%20%20%20%20%20%20%20%20%20%20%3C/div%3E%60%2C%0A%20%20%20%20%20%20%20%20%20%20%20%20%20%20%20%20%7B%22sticky%22%3A%20true%7D%0A%20%20%20%20%20%20%20%20%20%20%20%20%29%3B%0A%20%20%20%20%20%20%20%20%0A%20%20%20%20%0A%20%20%20%20%20%20%20%20%20%20%20%20var%20polygon_fdaa1a07218b45f38353bc52ba8cc88b%20%3D%20L.polygon%28%0A%20%20%20%20%20%20%20%20%20%20%20%20%20%20%20%20%5B%5B%5B47.20222972%2C%20-2.691135278%5D%2C%20%5B47.1826325%2C%20-2.686666667%5D%2C%20%5B47.14691889%2C%20-2.699031944%5D%2C%20%5B47.12426444%2C%20-2.579898889%5D%2C%20%5B47.11305028%2C%20-2.565479167%5D%2C%20%5B47.14761917%2C%20-2.497501389%5D%2C%20%5B47.17143083%2C%20-2.5187875%5D%2C%20%5B47.1826325%2C%20-2.569599167%5D%2C%20%5B47.16279444%2C%20-2.579898889%5D%2C%20%5B47.17749861%2C%20-2.635173889%5D%2C%20%5B47.20899361%2C%20-2.660236389%5D%5D%5D%2C%0A%20%20%20%20%20%20%20%20%20%20%20%20%20%20%20%20%7B%22bubblingMouseEvents%22%3A%20true%2C%20%22color%22%3A%20%22%233388ff%22%2C%20%22dashArray%22%3A%20null%2C%20%22dashOffset%22%3A%20null%2C%20%22fill%22%3A%20false%2C%20%22fillColor%22%3A%20%22%233388ff%22%2C%20%22fillOpacity%22%3A%200.2%2C%20%22fillRule%22%3A%20%22evenodd%22%2C%20%22lineCap%22%3A%20%22round%22%2C%20%22lineJoin%22%3A%20%22round%22%2C%20%22noClip%22%3A%20false%2C%20%22opacity%22%3A%201.0%2C%20%22smoothFactor%22%3A%201.0%2C%20%22stroke%22%3A%20true%2C%20%22weight%22%3A%203%7D%0A%20%20%20%20%20%20%20%20%20%20%20%20%29.addTo%28map_c9faa525762b46ab887ac03d1fe6687f%29%3B%0A%20%20%20%20%20%20%20%20%0A%20%20%20%20%0A%20%20%20%20%20%20%20%20var%20popup_6113c33deb6b43fda406c70d4b58f040%20%3D%20L.popup%28%7B%22maxWidth%22%3A%20%22100%25%22%7D%29%3B%0A%0A%20%20%20%20%20%20%20%20%0A%20%20%20%20%20%20%20%20%20%20%20%20var%20html_58ef5e26e4214a2c956b769744f7b3bb%20%3D%20%24%28%60%3Cdiv%20id%3D%22html_58ef5e26e4214a2c956b769744f7b3bb%22%20style%3D%22width%3A%20100.0%25%3B%20height%3A%20100.0%25%3B%22%3E%3Ci%3ESNA%3C/i%3E%3C/div%3E%60%29%5B0%5D%3B%0A%20%20%20%20%20%20%20%20%20%20%20%20popup_6113c33deb6b43fda406c70d4b58f040.setContent%28html_58ef5e26e4214a2c956b769744f7b3bb%29%3B%0A%20%20%20%20%20%20%20%20%0A%0A%20%20%20%20%20%20%20%20polygon_fdaa1a07218b45f38353bc52ba8cc88b.bindPopup%28popup_6113c33deb6b43fda406c70d4b58f040%29%0A%20%20%20%20%20%20%20%20%3B%0A%0A%20%20%20%20%20%20%20%20%0A%20%20%20%20%0A%20%20%20%20%0A%20%20%20%20%20%20%20%20%20%20%20%20polygon_fdaa1a07218b45f38353bc52ba8cc88b.bindTooltip%28%0A%20%20%20%20%20%20%20%20%20%20%20%20%20%20%20%20%60%3Cdiv%3E%0A%20%20%20%20%20%20%20%20%20%20%20%20%20%20%20%20%20%20%20%20%20SNA%0A%20%20%20%20%20%20%20%20%20%20%20%20%20%20%20%20%20%3C/div%3E%60%2C%0A%20%20%20%20%20%20%20%20%20%20%20%20%20%20%20%20%7B%22sticky%22%3A%20true%7D%0A%20%20%20%20%20%20%20%20%20%20%20%20%29%3B%0A%20%20%20%20%20%20%20%20%0A%3C/script%3E onload=\"this.contentDocument.open();this.contentDocument.write(    decodeURIComponent(this.getAttribute('data-html')));this.contentDocument.close();\" allowfullscreen webkitallowfullscreen mozallowfullscreen></iframe></div></div>"
      ],
      "text/plain": [
       "<folium.folium.Map at 0x2a767234c70>"
      ]
     },
     "execution_count": 66,
     "metadata": {},
     "output_type": "execute_result"
    }
   ],
   "source": [
    "# region Folium map options\n",
    "\n",
    "m = folium.Map(location= [47.2, -2.6], \n",
    "               zoom_start=9.5,\n",
    "              tiles='CartoDB positron')\n",
    "tooltip = \"Innovation\"\n",
    "\n",
    "folium.Marker([df.y[0], df.x[0]],\n",
    "              popup=\"<i>Innovation</i>\", \n",
    "              tooltip=tooltip\n",
    "             ).add_to(m)\n",
    "folium.Marker([df.y[1], df.x[1]],\n",
    "              popup=\"<i>LDTVO</i>\", \n",
    "              tooltip=\"Olympic Triton\"\n",
    "             ).add_to(m)\n",
    "folium.Marker([df.y[4], df.x[4]],\n",
    "              popup=\"<i>LDTVO</i>\", \n",
    "              tooltip=\"Wind of Pride\"\n",
    "             ).add_to(m)\n",
    "folium.vector_layers.Polygon(locations = [df2[:].values.tolist()],\n",
    "              popup=\"<i>SNA</i>\",\n",
    "               tooltip = \"SNA\"\n",
    "              ).add_to(m)\n",
    "m\n",
    "# endregion"
   ]
  }
 ],
 "metadata": {
  "kernelspec": {
   "display_name": "Python 3",
   "language": "python",
   "name": "python3"
  },
  "language_info": {
   "codemirror_mode": {
    "name": "ipython",
    "version": 3
   },
   "file_extension": ".py",
   "mimetype": "text/x-python",
   "name": "python",
   "nbconvert_exporter": "python",
   "pygments_lexer": "ipython3",
   "version": "3.7.3"
  }
 },
 "nbformat": 4,
 "nbformat_minor": 4
}
