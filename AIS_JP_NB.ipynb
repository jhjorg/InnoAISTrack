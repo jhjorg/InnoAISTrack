{
 "cells": [
  {
   "cell_type": "code",
   "execution_count": 1,
   "metadata": {},
   "outputs": [],
   "source": [
    "# main.py\n",
    "# 2021-06-09\n",
    "# Scrapes the AIS data for Innovation and writes it to a text file\n",
    "# References mapping.py, which takes scraped data and writes to a map\n",
    "# Scraping code from https://digital-geography.com/vessel-tracking-the-python-way/\n",
    "\n",
    "\n",
    "\n",
    "# region Import Modules\n",
    "\n",
    "import urllib.request\n",
    "from bs4 import BeautifulSoup\n",
    "import re\n",
    "import pandas as pd\n",
    "from datetime import datetime\n",
    "import locale\n",
    "locale.setlocale(locale.LC_ALL, 'en_US') # as we need to deal with names of months later on.\n",
    "import os\n",
    "\n",
    "# endregion\n"
   ]
  },
  {
   "cell_type": "code",
   "execution_count": 2,
   "metadata": {
    "tags": [
     "parameters"
    ]
   },
   "outputs": [
    {
     "data": {
      "text/plain": [
       "['Innovation', 'Boa Sub C', 'Furore-G']"
      ]
     },
     "execution_count": 2,
     "metadata": {},
     "output_type": "execute_result"
    }
   ],
   "source": [
    "# region Tracked Vessels\n",
    "IMOS = [9603453, 9275153, 9483413] # Set up IMO numbers for vessel tracking\n",
    "IMOS_Names = ['Innovation', 'Boa Sub C', 'Furore-G'] # Identify tracked vessels\n",
    "\n",
    "IMOS\n",
    "IMOS_Names\n",
    "\n",
    "# endregion\n"
   ]
  },
  {
   "cell_type": "code",
   "execution_count": 3,
   "metadata": {},
   "outputs": [
    {
     "name": "stdout",
     "output_type": "stream",
     "text": [
      "Jun 10, 2021 02:54 UTC\n",
      "2021-06-10 02:54:00\n",
      "Jun 10, 2021 02:54 UTC\n",
      "2021-06-10 02:54:00\n",
      "strange table found\n",
      "Jun 10, 2021 02:54 UTC\n",
      "2021-06-10 02:54:00\n",
      "strange table found\n"
     ]
    }
   ],
   "source": [
    "# region AIS data scrape data from vesselfinder.com\n",
    "hdr = {\n",
    "    'User-Agent': 'Mozilla/5.0 (X11; Linux x86_64) AppleWebKit/537.11 (KHTML, like Gecko) Chrome/23.0.1271.64 Safari/537.11',\n",
    "    'Accept': 'text/html,application/xhtml+xml,application/xml;q=0.9,*/*;q=0.8',\n",
    "    'Accept-Charset': 'ISO-8859-1,utf-8;q=0.7,*;q=0.3',\n",
    "    'Accept-Encoding': 'none',\n",
    "    'Accept-Language': 'en-US,en;q=0.8',\n",
    "    'Connection': 'keep-alive'}\n",
    "items = []\n",
    "for IMO in IMOS:\n",
    "    url = r'https://www.vesselfinder.com/en/vessels/VOS-TRAVELLER-IMO-' + str(IMO)\n",
    "    req = urllib.request.Request(url, None, hdr)\n",
    "    with urllib.request.urlopen(req) as response:\n",
    "        the_page = response.read()\n",
    "    parsed_html = BeautifulSoup(the_page)\n",
    "    a = parsed_html.p\n",
    "    tables = parsed_html.findAll(\"table\")\n",
    "    for table in tables:\n",
    "        if table.findParent(\"table\") is None:\n",
    "            for row in table.findAll('tr'):\n",
    "                aux = row.findAll('td')\n",
    "\n",
    "                try:\n",
    "                    if aux[0].string == \"Vessel Name\":\n",
    "                        name = aux[1].string\n",
    "                    if aux[0].string == \"Position received\":\n",
    "                        print(aux[1].get(\"data-title\"))\n",
    "                        zeit = datetime.strptime(aux[1].get(\"data-title\"), '%b %d, %Y %H:%M %Z')\n",
    "                        print(zeit)\n",
    "                except:\n",
    "                    print(\"strange table found\")\n",
    "    a = parsed_html.p\n",
    "    [b,c, d] = a.text.partition('nates ')\n",
    "    [coords,f,g] = d.partition(')')\n",
    "    coordsSplit = coords.split(\" / \")\n",
    "\n",
    "\n",
    "    def dms2dd(degrees, direction):\n",
    "        dd = float(degrees);\n",
    "        if direction == 'S' or direction == 'W':\n",
    "            dd *= -1\n",
    "        return dd\n",
    "\n",
    "\n",
    "    def parse_dms(dms):\n",
    "        parts = re.split(' ', dms)\n",
    "        lat = dms2dd(parts[0], parts[1])\n",
    "        return lat\n",
    "\n",
    "    \n",
    "    lat = parse_dms(coordsSplit[0])\n",
    "    lng = parse_dms(coordsSplit[1])\n",
    "    items.append((lat, lng, name, zeit))\n",
    "# endregion"
   ]
  },
  {
   "cell_type": "code",
   "execution_count": 4,
   "metadata": {},
   "outputs": [
    {
     "data": {
      "text/plain": [
       "[(47.17002, -2.57592, 'INNOVATION', datetime.datetime(2021, 6, 10, 2, 54)),\n",
       " (47.30375, -2.12168, 'BOA SUB C', datetime.datetime(2021, 6, 10, 2, 54)),\n",
       " (47.16782, -2.51175, 'FURORE-G', datetime.datetime(2021, 6, 10, 2, 54))]"
      ]
     },
     "execution_count": 4,
     "metadata": {},
     "output_type": "execute_result"
    }
   ],
   "source": [
    "items"
   ]
  },
  {
   "cell_type": "code",
   "execution_count": 5,
   "metadata": {},
   "outputs": [],
   "source": [
    "# region Write positions to .txt file\n",
    "filename = 'ship_positions.txt'\n",
    "if os.path.exists(filename):\n",
    "    append_write = 'a' # append if already exists\n",
    "    fw = open(filename,append_write)\n",
    "else:\n",
    "    append_write = 'w' # make a new file if not\n",
    "    fw = open(filename,append_write)\n",
    "    fw.write(\"lat;lng;name;time\\n\")\n",
    "for item in items:\n",
    "    fw.write(\"%3.5f;%3.5f;%s;%s\\n\" % item)\n",
    "fw.close()\n",
    "# endregion"
   ]
  },
  {
   "cell_type": "code",
   "execution_count": 7,
   "metadata": {},
   "outputs": [
    {
     "data": {
      "application/vnd.jupyter.widget-view+json": {
       "model_id": "292e31acd5084c519357a5ab11d11517",
       "version_major": 2,
       "version_minor": 0
      },
      "text/plain": [
       "MapView(layout=Layout(height='400px', width='100%'))"
      ]
     },
     "metadata": {},
     "output_type": "display_data"
    },
    {
     "data": {
      "text/html": [
       "<div class=\"map-static-img-preview-791b6579-092b-4cd7-83b3-ea749333f520\"><img src=\"\"></img></div>"
      ],
      "text/plain": [
       "<IPython.core.display.HTML object>"
      ]
     },
     "metadata": {},
     "output_type": "display_data"
    },
    {
     "data": {
      "text/html": [
       "<div class=\"map-html-embed-preview-791b6579-092b-4cd7-83b3-ea749333f520\"></div>"
      ],
      "text/plain": [
       "<IPython.core.display.HTML object>"
      ]
     },
     "metadata": {},
     "output_type": "display_data"
    }
   ],
   "source": [
    "# region Plot onto a map\n",
    "from arcgis.gis import GIS\n",
    "gis = GIS()\n",
    "map = gis.map()\n",
    "df = pd.DataFrame.from_records(items)\n",
    "df.columns = ['y', 'x', 'name', 'zeit']\n",
    "ships = gis.content.import_data(df)\n",
    "map.add_layer(ships)\n",
    "map.center = [lat, lng]\n",
    "map.zoom_to_layer(ships)\n",
    "map\n",
    "# endregion"
   ]
  },
  {
   "cell_type": "code",
   "execution_count": null,
   "metadata": {},
   "outputs": [],
   "source": []
  }
 ],
 "metadata": {
  "kernelspec": {
   "display_name": "Python 3",
   "language": "python",
   "name": "python3"
  },
  "language_info": {
   "codemirror_mode": {
    "name": "ipython",
    "version": 3
   },
   "file_extension": ".py",
   "mimetype": "text/x-python",
   "name": "python",
   "nbconvert_exporter": "python",
   "pygments_lexer": "ipython3",
   "version": "3.8.5"
  }
 },
 "nbformat": 4,
 "nbformat_minor": 4
}
